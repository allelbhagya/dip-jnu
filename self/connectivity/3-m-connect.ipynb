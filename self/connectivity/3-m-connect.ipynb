{
 "cells": [
  {
   "cell_type": "code",
   "execution_count": 1,
   "metadata": {},
   "outputs": [
    {
     "data": {
      "image/png": "[encoded data removed]",
      "text/plain": [
       "<Figure size 640x480 with 1 Axes>"
      ]
     },
     "metadata": {},
     "output_type": "display_data"
    }
   ],
   "source": [
    "import numpy as np\n",
    "import matplotlib.pyplot as plt\n",
    "\n",
    "matrix = np.array([\n",
    "    [0, 0, 0, 1, 1, 1, 0, 0, 0],\n",
    "    [0, 0, 1, 0, 0, 0, 1, 0, 0],\n",
    "    [0, 1, 0, 0, 0, 0, 0, 1, 0],\n",
    "    [1, 0, 0, 0, 0, 0, 0, 0, 1],\n",
    "    [1, 0, 0, 0, 0, 0, 0, 0, 1],\n",
    "    [1, 0, 0, 0, 0, 0, 0, 0, 1],\n",
    "    [0, 1, 0, 0, 0, 0, 0, 1, 0],\n",
    "    [0, 0, 1, 0, 0, 0, 1, 0, 0],\n",
    "    [0, 0, 0, 1, 1, 1, 0, 0, 0]\n",
    "])\n",
    "\n",
    "plt.imshow(matrix, cmap='gray')\n",
    "plt.axis('on')\n",
    "plt.show()"
   ]
  },
  {
   "cell_type": "code",
   "execution_count": 2,
   "metadata": {},
   "outputs": [],
   "source": [
    "n = len(matrix) - 1\n",
    "\n",
    "def neigh_4(x, y):\n",
    "    neighbours = []\n",
    "    if x - 1 >= 0:\n",
    "        neighbours.append((x - 1, y))\n",
    "    if y - 1 >= 0:\n",
    "        neighbours.append((x, y - 1))\n",
    "    if y + 1 <= n:\n",
    "        neighbours.append((x, y + 1))\n",
    "    if x + 1 <= n:\n",
    "        neighbours.append((x + 1, y))\n",
    "    return neighbours"
   ]
  },
  {
   "cell_type": "code",
   "execution_count": 3,
   "metadata": {},
   "outputs": [],
   "source": [
    "n = len(matrix) - 1\n",
    "\n",
    "def neigh_d(x, y):\n",
    "    neighbours = []\n",
    "    if x - 1 >= 0 and y - 1 >= 0:\n",
    "        neighbours.append((x - 1, y - 1))\n",
    "    if x + 1 <= n and y - 1 >= 0:\n",
    "        neighbours.append((x + 1, y - 1))\n",
    "    if x - 1 >= 0 and y + 1 <= n:\n",
    "        neighbours.append((x - 1, y + 1))\n",
    "    if x + 1 <= n and y + 1 <= n:\n",
    "        neighbours.append((x + 1, y + 1))\n",
    "    return neighbours"
   ]
  },
  {
   "cell_type": "code",
   "execution_count": 4,
   "metadata": {},
   "outputs": [],
   "source": [
    "V = {0}\n",
    "\n",
    "p_cor = (0, 1)\n",
    "q_cor = (0, 2)\n",
    "\n",
    "p = matrix[p_cor]\n",
    "q = matrix[q_cor]\n",
    "\n",
    "def check_gray(p, q):\n",
    "    return p in V and q in V\n",
    "\n"
   ]
  },
  {
   "cell_type": "code",
   "execution_count": 5,
   "metadata": {},
   "outputs": [
    {
     "name": "stdout",
     "output_type": "stream",
     "text": [
      "M-Connected\n"
     ]
    }
   ],
   "source": [
    "def check_neigh_1(p_cor, q_cor):\n",
    "    return q_cor in neigh_4(*p_cor)\n",
    "\n",
    "def check_neigh_2(p_cor, q_cor):\n",
    "    return q_cor in neigh_d(*p_cor)\n",
    "\n",
    "check = True\n",
    "def check_3(p_cor,q_cor):\n",
    "    check = True\n",
    "    n4_p = neigh_4(*p_cor)\n",
    "    n4_q = neigh_4(*q_cor)\n",
    "    for i in n4_p:\n",
    "        if i in n4_q:\n",
    "            check = False\n",
    "            break\n",
    "    return check\n",
    "\n",
    "if check_3(p_cor, q_cor) and (check_neigh_1(p_cor, q_cor) or (check_neigh_2(p_cor, q_cor))):\n",
    "    print(\"M-Connected\")\n",
    "else:\n",
    "    print(\"Not m-connect\")\n"
   ]
  }
 ],
 "metadata": {
  "kernelspec": {
   "display_name": "Python 3",
   "language": "python",
   "name": "python3"
  },
  "language_info": {
   "codemirror_mode": {
    "name": "ipython",
    "version": 3
   },
   "file_extension": ".py",
   "mimetype": "text/x-python",
   "name": "python",
   "nbconvert_exporter": "python",
   "pygments_lexer": "ipython3",
   "version": "3.9.6"
  }
 },
 "nbformat": 4,
 "nbformat_minor": 2
}
