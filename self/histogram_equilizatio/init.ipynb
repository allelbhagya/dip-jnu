{
 "cells": [
  {
   "cell_type": "code",
   "execution_count": 1,
   "metadata": {},
   "outputs": [
    {
     "data": {
      "image/png": "[encoded data removed]",
      "text/plain": [
       "<Figure size 640x480 with 1 Axes>"
      ]
     },
     "metadata": {},
     "output_type": "display_data"
    }
   ],
   "source": [
    "import matplotlib.pyplot as plt\n",
    "import numpy as np\n",
    "\n",
    "matrix = np.array([\n",
    "    [4,4,4,4,4],\n",
    "    [3,4,5,4,3],\n",
    "    [3,5,5,5,3],\n",
    "    [3,4,5,4,3],\n",
    "    [4,4,4,4,4]\n",
    "])\n",
    "\n",
    "plt.imshow(matrix, cmap='gray')\n",
    "plt.axis('on')\n",
    "plt.show()\n"
   ]
  },
  {
   "cell_type": "code",
   "execution_count": 2,
   "metadata": {},
   "outputs": [],
   "source": [
    "def step_1(matrix):\n",
    "    return(max([max(row) for row in matrix]))\n",
    "max_n = step_1(matrix)\n",
    "max_n = int(max_n)\n",
    "n = max_n.bit_length()\n"
   ]
  },
  {
   "cell_type": "code",
   "execution_count": 3,
   "metadata": {},
   "outputs": [
    {
     "name": "stdout",
     "output_type": "stream",
     "text": [
      "[0, 0, 0, 6, 14, 5, 0, 0]\n"
     ]
    }
   ],
   "source": [
    "gray_freq = [0] * 8\n",
    "for i in range(8):\n",
    "    gray_freq[i] = np.count_nonzero(matrix == i)\n",
    "print(gray_freq)\n"
   ]
  },
  {
   "cell_type": "code",
   "execution_count": 4,
   "metadata": {},
   "outputs": [
    {
     "name": "stdout",
     "output_type": "stream",
     "text": [
      "[0, 0, 0, 6, 20, 25, 25, 25]\n"
     ]
    }
   ],
   "source": [
    "running_sum = [0]*8\n",
    "rsum = 0\n",
    "for i in range(8):\n",
    "    running_sum[i] = gray_freq[i] + rsum\n",
    "    rsum = running_sum[i]\n",
    "print(running_sum)"
   ]
  },
  {
   "cell_type": "code",
   "execution_count": 5,
   "metadata": {},
   "outputs": [
    {
     "data": {
      "text/plain": [
       "25"
      ]
     },
     "execution_count": 5,
     "metadata": {},
     "output_type": "execute_result"
    }
   ],
   "source": [
    "total = max_n**2\n",
    "total"
   ]
  },
  {
   "cell_type": "code",
   "execution_count": 6,
   "metadata": {},
   "outputs": [
    {
     "name": "stdout",
     "output_type": "stream",
     "text": [
      "[0, 0, 0, 2, 6, 7, 7, 7]\n"
     ]
    }
   ],
   "source": [
    "import math\n",
    "rs_n = [0] * 8\n",
    "for i in range(8):\n",
    "    rs_n[i] = math.ceil(running_sum[i] / total * 7)\n",
    "print(rs_n)\n"
   ]
  },
  {
   "cell_type": "code",
   "execution_count": 7,
   "metadata": {},
   "outputs": [
    {
     "data": {
      "image/png": "[encoded data removed]",
      "text/plain": [
       "<Figure size 640x480 with 1 Axes>"
      ]
     },
     "metadata": {},
     "output_type": "display_data"
    }
   ],
   "source": [
    "transformed = np.array([rs_n[value] for value in matrix.flatten()]).reshape(matrix.shape)\n",
    "\n",
    "plt.imshow(transformed, cmap='gray')\n",
    "plt.axis('on')\n",
    "plt.show()"
   ]
  }
 ],
 "metadata": {
  "kernelspec": {
   "display_name": "Python 3",
   "language": "python",
   "name": "python3"
  },
  "language_info": {
   "codemirror_mode": {
    "name": "ipython",
    "version": 3
   },
   "file_extension": ".py",
   "mimetype": "text/x-python",
   "name": "python",
   "nbconvert_exporter": "python",
   "pygments_lexer": "ipython3",
   "version": "3.9.6"
  }
 },
 "nbformat": 4,
 "nbformat_minor": 2
}
