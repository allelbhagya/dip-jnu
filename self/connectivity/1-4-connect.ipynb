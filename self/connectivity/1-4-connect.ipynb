{
 "cells": [
  {
   "cell_type": "markdown",
   "metadata": {},
   "source": [
    "# implementing 4 - connectivty of pixels\n"
   ]
  },
  {
   "cell_type": "code",
   "execution_count": 1,
   "metadata": {},
   "outputs": [
    {
     "data": {
      "image/png": "[encoded data removed]",
      "text/plain": [
       "<Figure size 640x480 with 1 Axes>"
      ]
     },
     "metadata": {},
     "output_type": "display_data"
    }
   ],
   "source": [
    "import matplotlib.pyplot as plt\n",
    "import numpy as np\n",
    "\n",
    "matrix = np.array([\n",
    "    [1, 0, 0, 0, 1],\n",
    "        [1, 1, 0, 1, 1],\n",
    "        [1, 1, 0, 1, 1],\n",
    "        [1, 1, 0, 1, 1],\n",
    "        [1, 0, 0, 0, 1],\n",
    "])\n",
    "\n",
    "plt.imshow(matrix, cmap='gray')\n",
    "plt.axis('on')\n",
    "plt.show()\n"
   ]
  },
  {
   "cell_type": "markdown",
   "metadata": {},
   "source": [
    "# 4 neighbourood\n"
   ]
  },
  {
   "cell_type": "code",
   "execution_count": 2,
   "metadata": {},
   "outputs": [
    {
     "name": "stdout",
     "output_type": "stream",
     "text": [
      "gray value of test sample: 0\n"
     ]
    },
    {
     "data": {
      "text/plain": [
       "[[0, 0], [0, 2], [1, 1]]"
      ]
     },
     "execution_count": 2,
     "metadata": {},
     "output_type": "execute_result"
    }
   ],
   "source": [
    "test = matrix[0,1]\n",
    "print(\"gray value of test sample:\", test)\n",
    "\n",
    "# 1- white\n",
    "# 0- black\n",
    "\n",
    "def neigh4(x,y):\n",
    "    neighbours = []\n",
    "    if x-1>=0:\n",
    "        neighbours.append([x-1,y])\n",
    "    if y-1>=0:\n",
    "        neighbours.append([x,y-1])\n",
    "    if y+1<=4:\n",
    "        neighbours.append([x,y+1])\n",
    "    if x+1<=4:\n",
    "        neighbours.append([x+1,y])\n",
    "    return neighbours\n",
    "\n",
    "neigh4(0,1)"
   ]
  },
  {
   "cell_type": "markdown",
   "metadata": {},
   "source": [
    "## pixel 4- connectivity\n"
   ]
  },
  {
   "cell_type": "markdown",
   "metadata": {},
   "source": [
    "4 pixel connectivity\n",
    "\n",
    "pixel p\n",
    "\n",
    "- q should be a part of 4 pixel neighbourhood of p\n",
    "- pixel intensity of p and q should belong to set V\n"
   ]
  },
  {
   "cell_type": "code",
   "execution_count": 3,
   "metadata": {},
   "outputs": [
    {
     "name": "stdout",
     "output_type": "stream",
     "text": [
      "p and q are in 4-connectivity\n"
     ]
    }
   ],
   "source": [
    "V = set()\n",
    "V.add(0)\n",
    "\n",
    "p = matrix[0,1]\n",
    "p_cor=(0,1)\n",
    "\n",
    "q_cor = [0,2]\n",
    "q = matrix[0,2]\n",
    "\n",
    "\n",
    "def check_gray(p,q):\n",
    "    if p in V and q in V:\n",
    "        return(True)\n",
    "    else:\n",
    "        return False\n",
    "\n",
    "def check_neigh(p_cor):\n",
    "    neigh_p = neigh4(0,1)\n",
    "    if q_cor in neigh_p:\n",
    "        return True\n",
    "        \n",
    "if check_gray(p,q) and check_neigh(p_cor):\n",
    "    print(\"p and q are in 4-connectivity\")\n",
    "else:\n",
    "    print(\"p and q are not in 4-connectivity\")"
   ]
  }
 ],
 "metadata": {
  "kernelspec": {
   "display_name": "Python 3",
   "language": "python",
   "name": "python3"
  },
  "language_info": {
   "codemirror_mode": {
    "name": "ipython",
    "version": 3
   },
   "file_extension": ".py",
   "mimetype": "text/x-python",
   "name": "python",
   "nbconvert_exporter": "python",
   "pygments_lexer": "ipython3",
   "version": "3.9.6"
  }
 },
 "nbformat": 4,
 "nbformat_minor": 2
}
