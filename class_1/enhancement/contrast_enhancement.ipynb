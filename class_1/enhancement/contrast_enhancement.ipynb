{
 "cells": [
  {
   "cell_type": "code",
   "execution_count": 1,
   "metadata": {},
   "outputs": [
    {
     "name": "stderr",
     "output_type": "stream",
     "text": [
      "2024-10-05 17:24:02.583 Python[2529:47926] +[IMKClient subclass]: chose IMKClient_Legacy\n",
      "2024-10-05 17:24:02.583 Python[2529:47926] +[IMKInputSession subclass]: chose IMKInputSession_Legacy\n"
     ]
    }
   ],
   "source": [
    "\n",
    "import cv2\n",
    "\n",
    "import numpy as np\n",
    "\n",
    "img = cv2.imread('../img.jpeg', 0)\n",
    "\n",
    "equ = cv2.equalizeHist(img)\n",
    "res = np.hstack((img, equ))\n",
    "\n",
    "cv2.imshow('../img.jpeg', res)\n",
    "\n",
    "cv2.waitKey(0)\n",
    "cv2.destroyAllWindows()\n"
   ]
  }
 ],
 "metadata": {
  "kernelspec": {
   "display_name": "Python 3",
   "language": "python",
   "name": "python3"
  },
  "language_info": {
   "codemirror_mode": {
    "name": "ipython",
    "version": 3
   },
   "file_extension": ".py",
   "mimetype": "text/x-python",
   "name": "python",
   "nbconvert_exporter": "python",
   "pygments_lexer": "ipython3",
   "version": "3.9.6"
  }
 },
 "nbformat": 4,
 "nbformat_minor": 2
}
